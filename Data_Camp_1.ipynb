{
  "nbformat": 4,
  "nbformat_minor": 0,
  "metadata": {
    "colab": {
      "provenance": [],
      "mount_file_id": "1gLyKanhaXWxSrK0Vb8fB_ng8bi4LITl7",
      "authorship_tag": "ABX9TyPiabiutd50yz5KUvvlAe+d",
      "include_colab_link": true
    },
    "kernelspec": {
      "name": "python3",
      "display_name": "Python 3"
    },
    "language_info": {
      "name": "python"
    }
  },
  "cells": [
    {
      "cell_type": "markdown",
      "metadata": {
        "id": "view-in-github",
        "colab_type": "text"
      },
      "source": [
        "<a href=\"https://colab.research.google.com/github/codeWithChaos/ds-journey-with-python/blob/main/Data_Camp_1.ipynb\" target=\"_parent\"><img src=\"https://colab.research.google.com/assets/colab-badge.svg\" alt=\"Open In Colab\"/></a>"
      ]
    },
    {
      "cell_type": "markdown",
      "source": [
        "# Directories and Introductory Work"
      ],
      "metadata": {
        "id": "1dtNQbr26qs6"
      }
    },
    {
      "cell_type": "code",
      "source": [
        "# Directory\n",
        "%cd /content/drive/MyDrive/Data Camp"
      ],
      "metadata": {
        "colab": {
          "base_uri": "https://localhost:8080/"
        },
        "id": "t8v2AfUj7Lpv",
        "outputId": "c09490a0-1ce2-45a3-993d-167f3f235b91"
      },
      "execution_count": 1,
      "outputs": [
        {
          "output_type": "stream",
          "name": "stdout",
          "text": [
            "/content/drive/MyDrive/Data Camp\n"
          ]
        }
      ]
    },
    {
      "cell_type": "code",
      "source": [],
      "metadata": {
        "id": "Mpz9IpIH7SUT"
      },
      "execution_count": null,
      "outputs": []
    }
  ]
}